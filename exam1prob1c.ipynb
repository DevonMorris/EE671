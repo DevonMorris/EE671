{
 "cells": [
  {
   "cell_type": "markdown",
   "metadata": {},
   "source": [
    "Problem 1 c"
   ]
  },
  {
   "cell_type": "code",
   "execution_count": 1,
   "metadata": {},
   "outputs": [],
   "source": [
    "import numpy as np\n",
    "import numpy.linalg as la"
   ]
  },
  {
   "cell_type": "code",
   "execution_count": 2,
   "metadata": {},
   "outputs": [],
   "source": [
    "M_1 = np.array([[1, 1j, 0],\n",
    "               [ 0,  1, 1j],\n",
    "               [ 0, 1j, 0]])\n",
    "M_2 = np.array([[1 + 1j, 1 + 1j, 1 + 1j],\n",
    "                [2, 2, 2],\n",
    "                [0, 0, 0]])\n",
    "M_3 = np.array([[1 - 1j, 4, 5],\n",
    "                [1 - 2*1j, 6, 7],\n",
    "                [1 - 3*1j, 8, 9]])"
   ]
  },
  {
   "cell_type": "code",
   "execution_count": 3,
   "metadata": {},
   "outputs": [],
   "source": [
    "inn = lambda X,Y: np.trace(np.conj(Y.T)@X)\n",
    "p = [M_1, M_2, M_3]"
   ]
  },
  {
   "cell_type": "code",
   "execution_count": 4,
   "metadata": {},
   "outputs": [],
   "source": [
    "def gram_schmidt(inn, p):\n",
    "    '''\n",
    "    Performs the gram_schmidt algorithm\n",
    "    Inputs:\n",
    "    inn - the inner product (takes 2 arguments)\n",
    "    p - list of vectors to orthonormalize\n",
    "    '''\n",
    "    # Do gram schmidt\n",
    "    q = []\n",
    "    \n",
    "    for p_ in p:\n",
    "        # Project onto the vectors already created\n",
    "        e = np.copy(p_)\n",
    "        for q_ in q:\n",
    "            # Technically this makes it modified gram_schmidt\n",
    "            e -= inn(e,q_)*q_\n",
    "        e /= np.sqrt(inn(e,e))\n",
    "        q.append(e)\n",
    "    return q"
   ]
  },
  {
   "cell_type": "code",
   "execution_count": 5,
   "metadata": {},
   "outputs": [],
   "source": [
    "N = gram_schmidt(inn, p)"
   ]
  },
  {
   "cell_type": "code",
   "execution_count": 6,
   "metadata": {},
   "outputs": [
    {
     "name": "stdout",
     "output_type": "stream",
     "text": [
      "[[0.4472136+0.j        0.       +0.4472136j 0.       +0.j       ]\n",
      " [0.       +0.j        0.4472136+0.j        0.       +0.4472136j]\n",
      " [0.       +0.j        0.       +0.4472136j 0.       +0.j       ]]\n"
     ]
    }
   ],
   "source": [
    "print(N[0])"
   ]
  },
  {
   "cell_type": "code",
   "execution_count": 7,
   "metadata": {},
   "outputs": [
    {
     "name": "stdout",
     "output_type": "stream",
     "text": [
      "[[ 0.05345225+0.37416574j  0.16035675+0.05345225j  0.26726124+0.26726124j]\n",
      " [ 0.53452248+0.j          0.32071349+0.1069045j   0.42761799-0.21380899j]\n",
      " [ 0.        +0.j         -0.1069045 -0.21380899j  0.        +0.j        ]]\n"
     ]
    }
   ],
   "source": [
    "print(N[1])"
   ]
  },
  {
   "cell_type": "code",
   "execution_count": 8,
   "metadata": {},
   "outputs": [
    {
     "name": "stdout",
     "output_type": "stream",
     "text": [
      "[[-0.07254017+0.05440513j -0.08160769-0.13147906j  0.25389059-0.12241153j]\n",
      " [-0.18588418-0.1382797j   0.20175234+0.27655939j  0.0340032 +0.0113344j ]\n",
      " [ 0.07934081-0.23802243j  0.378569  -0.00906752j  0.71406728+0.j        ]]\n"
     ]
    }
   ],
   "source": [
    "print(N[2])"
   ]
  },
  {
   "cell_type": "markdown",
   "metadata": {},
   "source": [
    "Orthogonality Conditions"
   ]
  },
  {
   "cell_type": "code",
   "execution_count": 9,
   "metadata": {},
   "outputs": [
    {
     "data": {
      "text/plain": [
       "1.0007415106216802e-16"
      ]
     },
     "execution_count": 9,
     "metadata": {},
     "output_type": "execute_result"
    }
   ],
   "source": [
    "abs(inn(N[0],N[1]))"
   ]
  },
  {
   "cell_type": "code",
   "execution_count": 10,
   "metadata": {},
   "outputs": [
    {
     "data": {
      "text/plain": [
       "5.104923070917894e-17"
      ]
     },
     "execution_count": 10,
     "metadata": {},
     "output_type": "execute_result"
    }
   ],
   "source": [
    "abs(inn(N[0],N[2]))"
   ]
  },
  {
   "cell_type": "code",
   "execution_count": 11,
   "metadata": {},
   "outputs": [
    {
     "data": {
      "text/plain": [
       "1.18774731498903e-16"
      ]
     },
     "execution_count": 11,
     "metadata": {},
     "output_type": "execute_result"
    }
   ],
   "source": [
    "abs(inn(N[1],N[2]))"
   ]
  },
  {
   "cell_type": "markdown",
   "metadata": {},
   "source": [
    "Normalization"
   ]
  },
  {
   "cell_type": "code",
   "execution_count": 12,
   "metadata": {},
   "outputs": [
    {
     "data": {
      "text/plain": [
       "0.9999999999999999"
      ]
     },
     "execution_count": 12,
     "metadata": {},
     "output_type": "execute_result"
    }
   ],
   "source": [
    "abs(inn(N[0],N[0]))"
   ]
  },
  {
   "cell_type": "code",
   "execution_count": 13,
   "metadata": {},
   "outputs": [
    {
     "data": {
      "text/plain": [
       "1.0000000000000002"
      ]
     },
     "execution_count": 13,
     "metadata": {},
     "output_type": "execute_result"
    }
   ],
   "source": [
    "abs(inn(N[1],N[1]))"
   ]
  },
  {
   "cell_type": "code",
   "execution_count": 14,
   "metadata": {},
   "outputs": [
    {
     "data": {
      "text/plain": [
       "1.0"
      ]
     },
     "execution_count": 14,
     "metadata": {},
     "output_type": "execute_result"
    }
   ],
   "source": [
    "abs(inn(N[2],N[2]))"
   ]
  }
 ],
 "metadata": {
  "kernelspec": {
   "display_name": "Python 3",
   "language": "python",
   "name": "python3"
  },
  "language_info": {
   "codemirror_mode": {
    "name": "ipython",
    "version": 3
   },
   "file_extension": ".py",
   "mimetype": "text/x-python",
   "name": "python",
   "nbconvert_exporter": "python",
   "pygments_lexer": "ipython3",
   "version": "3.5.2"
  }
 },
 "nbformat": 4,
 "nbformat_minor": 2
}
