{
 "cells": [
  {
   "cell_type": "code",
   "execution_count": 1,
   "metadata": {},
   "outputs": [],
   "source": [
    "import numpy as np\n",
    "\n",
    "class plant(object):\n",
    "    \n",
    "    def __init__(self, h):\n",
    "        '''\n",
    "        h - numpy array representing impulse response of system\n",
    "        '''\n",
    "        self.h = h\n",
    "        self.data_length = h.shape[0]\n",
    "        self.data = np.zeros(self.data_length)\n",
    "        \n",
    "    def run_plant(self, x):\n",
    "        '''\n",
    "        x - scalar representing next value ingested by the plant\n",
    "        '''\n",
    "        self.data = np.roll(self.data,1)\n",
    "        self.data[0] = x\n",
    "        return np.sum(self.h*self.data)"
   ]
  },
  {
   "cell_type": "code",
   "execution_count": 2,
   "metadata": {},
   "outputs": [],
   "source": [
    "sys = plant(np.array([1.,2.,3.,4.,5.]))"
   ]
  },
  {
   "cell_type": "code",
   "execution_count": 3,
   "metadata": {},
   "outputs": [
    {
     "name": "stdout",
     "output_type": "stream",
     "text": [
      "-0.8980762811745014\n",
      "-0.7313419561431813\n",
      "0.18298593894300996\n",
      "-0.680283218868881\n",
      "0.3119011113556933\n",
      "6.3643209792496975\n",
      "0.6413700836580314\n",
      "-2.554019407980122\n",
      "8.943924622068078\n",
      "1.0378585730973517\n",
      "3.0687731423453046\n",
      "9.656290743996964\n",
      "1.1809011347500704\n",
      "-1.2044868123019796\n",
      "-5.314171781389868\n",
      "-0.22419575207131803\n",
      "-8.343456912436423\n",
      "-9.82986944817219\n",
      "-10.264183915091415\n",
      "-16.6582593876292\n",
      "-8.395209453374289\n",
      "1.463152793614123\n",
      "4.5368400670688445\n",
      "8.884045622635705\n",
      "9.29751178595089\n"
     ]
    }
   ],
   "source": [
    "for x in np.random.randn(25):\n",
    "    print(sys.run_plant(x))"
   ]
  },
  {
   "cell_type": "code",
   "execution_count": null,
   "metadata": {},
   "outputs": [],
   "source": [
    "class RLS(object):\n",
    "    '''\n",
    "    Recursive least squares estimator\n",
    "    '''\n",
    "    \n",
    "    def __init__(N):\n",
    "        '''\n",
    "        N is the desired length of the impulse response\n",
    "        '''"
   ]
  }
 ],
 "metadata": {
  "kernelspec": {
   "display_name": "Python 3",
   "language": "python",
   "name": "python3"
  },
  "language_info": {
   "codemirror_mode": {
    "name": "ipython",
    "version": 3
   },
   "file_extension": ".py",
   "mimetype": "text/x-python",
   "name": "python",
   "nbconvert_exporter": "python",
   "pygments_lexer": "ipython3",
   "version": "3.5.2"
  }
 },
 "nbformat": 4,
 "nbformat_minor": 2
}
