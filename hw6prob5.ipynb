{
 "cells": [
  {
   "cell_type": "markdown",
   "metadata": {},
   "source": [
    "# Recursive Least Squares"
   ]
  },
  {
   "cell_type": "code",
   "execution_count": 1,
   "metadata": {},
   "outputs": [],
   "source": [
    "import numpy as np\n",
    "\n",
    "class plant(object):\n",
    "    \n",
    "    def __init__(self, h):\n",
    "        '''\n",
    "        h - numpy array representing impulse response of system\n",
    "        '''\n",
    "        self.h = h\n",
    "        self.data_length = h.shape[0]\n",
    "        self.data = np.zeros(self.data_length)\n",
    "        \n",
    "    def run_plant(self, x):\n",
    "        '''\n",
    "        x - scalar representing next value ingested by the plant\n",
    "        '''\n",
    "        self.data = np.roll(self.data,1)\n",
    "        self.data[0] = x\n",
    "        return np.sum(self.h*self.data)"
   ]
  },
  {
   "cell_type": "code",
   "execution_count": 2,
   "metadata": {},
   "outputs": [],
   "source": [
    "sys = plant(np.array([1.,2.,3.,4.,5.]))"
   ]
  },
  {
   "cell_type": "code",
   "execution_count": 3,
   "metadata": {},
   "outputs": [
    {
     "name": "stdout",
     "output_type": "stream",
     "text": [
      "-0.49782064593871594\n",
      "0.876962885407775\n",
      "2.1596920293258943\n",
      "5.593756471880458\n",
      "9.81281753349613\n",
      "17.822144338988288\n",
      "12.55330220760541\n",
      "18.194880356864456\n",
      "10.33530982205146\n",
      "9.86316730742638\n"
     ]
    }
   ],
   "source": [
    "for x in np.random.randn(10):\n",
    "    print(sys.run_plant(x))"
   ]
  },
  {
   "cell_type": "code",
   "execution_count": 4,
   "metadata": {},
   "outputs": [],
   "source": [
    "class RLS(object):\n",
    "    '''\n",
    "    Recursive least squares estimator\n",
    "    '''\n",
    "    \n",
    "    def __init__(self, N):\n",
    "        '''\n",
    "        N is the desired length of the impulse response\n",
    "        '''\n",
    "        self.h = np.zeros(N)\n",
    "        self.x_data = np.zeros(N)\n",
    "        self.P = 1e6*np.eye(N)\n",
    "        self.e = 0\n",
    "        \n",
    "    def filt(self,x,y):\n",
    "        '''\n",
    "        Filters the data based on the \n",
    "        input - x\n",
    "        desired - y\n",
    "        '''\n",
    "        self.x_data = np.roll(self.x_data, 1)\n",
    "        self.x_data[0] = x\n",
    "        \n",
    "        k = self.P@self.x_data/(1. + self.x_data@self.P@self.x_data)\n",
    "        self.e = y - self.x_data@self.h\n",
    "        self.h += k*self.e\n",
    "        self.P -= np.outer(k,self.x_data@self.P)"
   ]
  },
  {
   "cell_type": "markdown",
   "metadata": {},
   "source": [
    "## Estimation using filter of correct length"
   ]
  },
  {
   "cell_type": "code",
   "execution_count": 6,
   "metadata": {},
   "outputs": [
    {
     "name": "stdout",
     "output_type": "stream",
     "text": [
      "[1.         1.99999999 2.99999997 3.99999996 4.99999995]\n",
      "-1.6139770764311834e-07\n"
     ]
    }
   ],
   "source": [
    "rls_filt = RLS(5)\n",
    "sys = plant(np.array([1.,2.,3.,4.,5.]))\n",
    "\n",
    "for x in np.random.randn(100):\n",
    "    y = sys.run_plant(x)\n",
    "    rls_filt.filt(x,y)\n",
    "\n",
    "print(rls_filt.h)\n",
    "print(rls_filt.e)"
   ]
  },
  {
   "cell_type": "markdown",
   "metadata": {},
   "source": [
    "## Estimation using filter too short"
   ]
  },
  {
   "cell_type": "code",
   "execution_count": 7,
   "metadata": {},
   "outputs": [
    {
     "name": "stdout",
     "output_type": "stream",
     "text": [
      "[0.67984359 2.04549259 3.04227276 3.34375769]\n",
      "-5.737653496331016\n"
     ]
    }
   ],
   "source": [
    "rls_filt = RLS(4)\n",
    "sys = plant(np.array([1.,2.,3.,4.,5.]))\n",
    "\n",
    "for x in np.random.randn(100):\n",
    "    y = sys.run_plant(x)\n",
    "    rls_filt.filt(x,y)\n",
    "\n",
    "print(rls_filt.h)\n",
    "print(rls_filt.e)"
   ]
  },
  {
   "cell_type": "markdown",
   "metadata": {},
   "source": [
    "As seen, the error is larger and the filter fails to estimate the impulse response."
   ]
  }
 ],
 "metadata": {
  "kernelspec": {
   "display_name": "Python 3",
   "language": "python",
   "name": "python3"
  },
  "language_info": {
   "codemirror_mode": {
    "name": "ipython",
    "version": 3
   },
   "file_extension": ".py",
   "mimetype": "text/x-python",
   "name": "python",
   "nbconvert_exporter": "python",
   "pygments_lexer": "ipython3",
   "version": "3.5.2"
  }
 },
 "nbformat": 4,
 "nbformat_minor": 2
}
